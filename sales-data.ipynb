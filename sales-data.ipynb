{
 "cells": [
  {
   "cell_type": "code",
   "execution_count": 8,
   "id": "865f215e-69f0-4a23-87dd-29634918cb4c",
   "metadata": {},
   "outputs": [],
   "source": [
    "import pandas as pd\n",
    "import numpy as np"
   ]
  },
  {
   "cell_type": "code",
   "execution_count": 9,
   "id": "dfde4a89-84f0-4405-a076-49036d8ea778",
   "metadata": {},
   "outputs": [],
   "source": [
    "df = pd.read_csv(\"C:\\\\Users\\\\anika\\\\Downloads\\\\fct_invoice.csv\")"
   ]
  },
  {
   "cell_type": "code",
   "execution_count": 10,
   "id": "64ec523c-482d-46eb-805f-009a907c4c65",
   "metadata": {},
   "outputs": [],
   "source": [
    "ds = pd.read_json('C:\\\\Users\\\\anika\\\\Downloads\\\\dim_customer.json')"
   ]
  },
  {
   "cell_type": "code",
   "execution_count": 12,
   "id": "149aa8ad-bc9a-4e3d-8ab9-e02487a04007",
   "metadata": {},
   "outputs": [],
   "source": [
    "#EASY"
   ]
  },
  {
   "cell_type": "code",
   "execution_count": 13,
   "id": "d9fa0563-7fbd-4e60-a4c6-44612b198aff",
   "metadata": {},
   "outputs": [],
   "source": [
    "# How many unique customers are in the dataset?"
   ]
  },
  {
   "cell_type": "code",
   "execution_count": 14,
   "id": "ae247975-591b-44b0-b628-5607a39c3980",
   "metadata": {},
   "outputs": [
    {
     "data": {
      "text/plain": [
       "5191"
      ]
     },
     "execution_count": 14,
     "metadata": {},
     "output_type": "execute_result"
    }
   ],
   "source": [
    "df['customer_id'].nunique()"
   ]
  },
  {
   "cell_type": "code",
   "execution_count": 15,
   "id": "25bb0c01-3894-4dfd-82fc-5c7cc6bab607",
   "metadata": {},
   "outputs": [],
   "source": [
    "# What are the different categories of products available?"
   ]
  },
  {
   "cell_type": "code",
   "execution_count": 16,
   "id": "aa69cbb3-fe0b-4576-be4f-a50ed544510f",
   "metadata": {},
   "outputs": [
    {
     "data": {
      "text/plain": [
       "array(['Clothing', 'Shoes', 'Books', 'Cosmetics', 'Food & Beverage',\n",
       "       'Toys', 'Technology', 'Souvenir'], dtype=object)"
      ]
     },
     "execution_count": 16,
     "metadata": {},
     "output_type": "execute_result"
    }
   ],
   "source": [
    "df['category'].unique()"
   ]
  },
  {
   "cell_type": "code",
   "execution_count": 17,
   "id": "8fc1d305-19a0-4964-93b6-0958a99c616a",
   "metadata": {},
   "outputs": [],
   "source": [
    "#  How many unique categories are there?"
   ]
  },
  {
   "cell_type": "code",
   "execution_count": 18,
   "id": "810d48ff-24fe-47b6-ad6c-a5837db7d6c3",
   "metadata": {},
   "outputs": [
    {
     "data": {
      "text/plain": [
       "8"
      ]
     },
     "execution_count": 18,
     "metadata": {},
     "output_type": "execute_result"
    }
   ],
   "source": [
    "df['category'].nunique()"
   ]
  },
  {
   "cell_type": "code",
   "execution_count": 19,
   "id": "09a7aeed-d786-4360-8af0-1a31a28ce5c4",
   "metadata": {},
   "outputs": [],
   "source": [
    "# Which payment method is the most popular? How many times was it used?"
   ]
  },
  {
   "cell_type": "code",
   "execution_count": 20,
   "id": "c85fd757-c9e3-4852-9b30-75fecda99f79",
   "metadata": {},
   "outputs": [
    {
     "data": {
      "text/plain": [
       "payment_method\n",
       "Cash    44447\n",
       "dtype: int64"
      ]
     },
     "execution_count": 20,
     "metadata": {},
     "output_type": "execute_result"
    }
   ],
   "source": [
    "df.groupby('payment_method').size().sort_values(ascending=False).head(1)"
   ]
  },
  {
   "cell_type": "code",
   "execution_count": 21,
   "id": "a1024130-1846-4bbf-905c-7a379b2d4308",
   "metadata": {},
   "outputs": [],
   "source": [
    "# Medium"
   ]
  },
  {
   "cell_type": "code",
   "execution_count": 22,
   "id": "97da1bca-42a0-49da-a41b-2cd7c601fb48",
   "metadata": {},
   "outputs": [],
   "source": [
    "# What are the three most popular categories, by total sales?"
   ]
  },
  {
   "cell_type": "code",
   "execution_count": 47,
   "id": "acddb8da-2bc4-4864-b8c8-b6295ed2fee9",
   "metadata": {},
   "outputs": [
    {
     "data": {
      "text/plain": [
       "category\n",
       "Clothing      1.139968e+08\n",
       "Shoes         6.655345e+07\n",
       "Technology    5.786235e+07\n",
       "Name: total_sales, dtype: float64"
      ]
     },
     "execution_count": 47,
     "metadata": {},
     "output_type": "execute_result"
    }
   ],
   "source": [
    "df['total_sales'] = df['quantity']*df['price']\n",
    "\n",
    "totalsalescalc = df.groupby('category')['total_sales'].sum()\n",
    "totalsales = totalsalescalc.sort_values(ascending=False).head(3)\n",
    "\n",
    "totalsales"
   ]
  },
  {
   "cell_type": "code",
   "execution_count": 26,
   "id": "b79e2a42-f472-4b87-aeae-32f7644ef38d",
   "metadata": {},
   "outputs": [],
   "source": [
    "# What are the total sales attributed to customers over the age of 45?"
   ]
  },
  {
   "cell_type": "code",
   "execution_count": 57,
   "id": "be1afaf4-24df-48b8-9aac-129ba8d1d06c",
   "metadata": {},
   "outputs": [
    {
     "name": "stderr",
     "output_type": "stream",
     "text": [
      "C:\\Users\\anika\\AppData\\Local\\Temp\\ipykernel_22484\\2050539977.py:5: SettingWithCopyWarning: \n",
      "A value is trying to be set on a copy of a slice from a DataFrame.\n",
      "Try using .loc[row_indexer,col_indexer] = value instead\n",
      "\n",
      "See the caveats in the documentation: https://pandas.pydata.org/pandas-docs/stable/user_guide/indexing.html#returning-a-view-versus-a-copy\n",
      "  new_df['total_sales'] = new_df['quantity']*new_df['price']\n"
     ]
    },
    {
     "data": {
      "text/plain": [
       "82039768.15"
      ]
     },
     "execution_count": 57,
     "metadata": {},
     "output_type": "execute_result"
    }
   ],
   "source": [
    "#same id\n",
    "customerID = ds.query('age > 45')['id']\n",
    "\n",
    "new_df = df[df['customer_id'].isin(customerID)]\n",
    "new_df['total_sales'] = new_df['quantity']*new_df['price']\n",
    "\n",
    "forty_fivecalc = new_df['total_sales'].sum()\n",
    "\n",
    "forty_fivecalc"
   ]
  },
  {
   "cell_type": "code",
   "execution_count": 29,
   "id": "eb96953f-9fc2-4d2c-8978-f62ae4fa68f6",
   "metadata": {},
   "outputs": [],
   "source": [
    "# How is the data distributed across different invoice dates? Are there any seasonal trends or patterns? (Use a graph for this.)"
   ]
  },
  {
   "cell_type": "code",
   "execution_count": 30,
   "id": "a6a9419f-9f9f-4f87-bd9a-0acf8d02a1bf",
   "metadata": {},
   "outputs": [],
   "source": [
    "import matplotlib.pyplot as plt"
   ]
  },
  {
   "cell_type": "code",
   "execution_count": 31,
   "id": "201998a3-4e81-463d-954b-79a891cf1809",
   "metadata": {},
   "outputs": [],
   "source": [
    "dfcopy = df.copy()"
   ]
  },
  {
   "cell_type": "code",
   "execution_count": 32,
   "id": "72676c42-9bc7-406c-8fa6-0ecf7f5ea1a2",
   "metadata": {},
   "outputs": [],
   "source": [
    "dfcopy['invoice_date'] = pd.to_datetime(dfcopy['invoice_date'], format='%d/%m/%Y')\n",
    "month = dfcopy['invoice_date'].dt.month"
   ]
  },
  {
   "cell_type": "code",
   "execution_count": 62,
   "id": "2f60edfc-7e46-4aef-a61c-7b3755be2220",
   "metadata": {},
   "outputs": [
    {
     "data": {
      "image/png": "[encoded data removed]",
      "text/plain": [
       "<Figure size 640x480 with 1 Axes>"
      ]
     },
     "metadata": {},
     "output_type": "display_data"
    }
   ],
   "source": [
    "dfcopy.groupby(month).size().plot(kind='bar')\n",
    "plt.title('Number of Invoices per Month')\n",
    "plt.xlabel('Month')\n",
    "plt.ylabel('Number of Invoices')\n",
    "plt.xticks(range(12), ['Jan', 'Feb', 'Mar', 'Apr', 'May', 'Jun', 'Jul', 'Aug', 'Sep', 'Oct', 'Nov', 'Dec'], rotation=0)\n",
    "plt.grid(axis='y')\n",
    "plt.show()"
   ]
  },
  {
   "cell_type": "code",
   "execution_count": null,
   "id": "1c311cb2-d5c7-450b-9c5d-0329d0ade14b",
   "metadata": {},
   "outputs": [],
   "source": [
    "As the year progresses, transactions decrease until April where the amount of transactions remain stagnant and do not fluctuate in large amounts. "
   ]
  },
  {
   "cell_type": "code",
   "execution_count": null,
   "id": "1a104e0d-ac23-46ff-b220-00694d8786eb",
   "metadata": {},
   "outputs": [],
   "source": [
    "# Hard\n",
    "# Create a pivot table showing the breakdown of sales across these dimensions, in this order: category, decade age range (e.g., 10-19, 20-29, and so forth)."
   ]
  },
  {
   "cell_type": "code",
   "execution_count": 155,
   "id": "83e3156c-be6e-4e1d-b8f7-db20deb48686",
   "metadata": {},
   "outputs": [],
   "source": [
    "dscopy = ds.copy()\n",
    "\n",
    "newdf = dscopy.merge(dfcopy,left_on='id', right_on='customer_id')\n"
   ]
  },
  {
   "cell_type": "code",
   "execution_count": 156,
   "id": "37fdc216-6a99-4be8-9e13-1cfabeb708f2",
   "metadata": {},
   "outputs": [],
   "source": [
    "newdf[\"age\"].fillna(0, inplace=True)\n",
    "newdf[\"decade\"] = (newdf['age']//10*10).astype(int)\n",
    "newdf[\"decade\"] = newdf[\"decade\"].astype(str) + \"-\" + (newdf[\"decade\"]+9).astype(str)\n"
   ]
  },
  {
   "cell_type": "code",
   "execution_count": 160,
   "id": "914f9dac-2f5e-4f1f-b3b8-7f2f930e9703",
   "metadata": {},
   "outputs": [
    {
     "data": {
      "text/html": [
       "<div>\n",
       "<style scoped>\n",
       "    .dataframe tbody tr th:only-of-type {\n",
       "        vertical-align: middle;\n",
       "    }\n",
       "\n",
       "    .dataframe tbody tr th {\n",
       "        vertical-align: top;\n",
       "    }\n",
       "\n",
       "    .dataframe thead th {\n",
       "        text-align: right;\n",
       "    }\n",
       "</style>\n",
       "<table border=\"1\" class=\"dataframe\">\n",
       "  <thead>\n",
       "    <tr style=\"text-align: right;\">\n",
       "      <th></th>\n",
       "      <th>total_sales</th>\n",
       "    </tr>\n",
       "    <tr>\n",
       "      <th>category</th>\n",
       "      <th></th>\n",
       "    </tr>\n",
       "  </thead>\n",
       "  <tbody>\n",
       "    <tr>\n",
       "      <th>Books</th>\n",
       "      <td>8.345529e+05</td>\n",
       "    </tr>\n",
       "    <tr>\n",
       "      <th>Clothing</th>\n",
       "      <td>1.139968e+08</td>\n",
       "    </tr>\n",
       "    <tr>\n",
       "      <th>Cosmetics</th>\n",
       "      <td>6.792863e+06</td>\n",
       "    </tr>\n",
       "    <tr>\n",
       "      <th>Food &amp; Beverage</th>\n",
       "      <td>8.495351e+05</td>\n",
       "    </tr>\n",
       "    <tr>\n",
       "      <th>Shoes</th>\n",
       "      <td>6.655345e+07</td>\n",
       "    </tr>\n",
       "    <tr>\n",
       "      <th>Souvenir</th>\n",
       "      <td>6.358247e+05</td>\n",
       "    </tr>\n",
       "    <tr>\n",
       "      <th>Technology</th>\n",
       "      <td>5.786235e+07</td>\n",
       "    </tr>\n",
       "    <tr>\n",
       "      <th>Toys</th>\n",
       "      <td>3.980426e+06</td>\n",
       "    </tr>\n",
       "  </tbody>\n",
       "</table>\n",
       "</div>"
      ],
      "text/plain": [
       "                  total_sales\n",
       "category                     \n",
       "Books            8.345529e+05\n",
       "Clothing         1.139968e+08\n",
       "Cosmetics        6.792863e+06\n",
       "Food & Beverage  8.495351e+05\n",
       "Shoes            6.655345e+07\n",
       "Souvenir         6.358247e+05\n",
       "Technology       5.786235e+07\n",
       "Toys             3.980426e+06"
      ]
     },
     "execution_count": 160,
     "metadata": {},
     "output_type": "execute_result"
    }
   ],
   "source": [
    "newdf[\"total_sales\"] = newdf[\"quantity\"]*newdf[\"price\"]\n",
    "newdf.pivot_table(index=['category'],columns = ['decade'],values=[\"total_sales\"],aggfunc='sum')\n",
    "newdf.pivot_table(index=['category'],values=\"total_sales\",aggfunc='sum')"
   ]
  },
  {
   "cell_type": "code",
   "execution_count": 161,
   "id": "e2c546c3-927c-4a81-aadd-264cc20e4ba1",
   "metadata": {},
   "outputs": [
    {
     "data": {
      "text/html": [
       "<div>\n",
       "<style scoped>\n",
       "    .dataframe tbody tr th:only-of-type {\n",
       "        vertical-align: middle;\n",
       "    }\n",
       "\n",
       "    .dataframe tbody tr th {\n",
       "        vertical-align: top;\n",
       "    }\n",
       "\n",
       "    .dataframe thead tr th {\n",
       "        text-align: left;\n",
       "    }\n",
       "\n",
       "    .dataframe thead tr:last-of-type th {\n",
       "        text-align: right;\n",
       "    }\n",
       "</style>\n",
       "<table border=\"1\" class=\"dataframe\">\n",
       "  <thead>\n",
       "    <tr>\n",
       "      <th></th>\n",
       "      <th colspan=\"9\" halign=\"left\">total_sales</th>\n",
       "    </tr>\n",
       "    <tr>\n",
       "      <th>decade</th>\n",
       "      <th>0-9</th>\n",
       "      <th>10-19</th>\n",
       "      <th>20-29</th>\n",
       "      <th>30-39</th>\n",
       "      <th>40-49</th>\n",
       "      <th>50-59</th>\n",
       "      <th>60-69</th>\n",
       "      <th>70-79</th>\n",
       "      <th>80-89</th>\n",
       "    </tr>\n",
       "    <tr>\n",
       "      <th>category</th>\n",
       "      <th></th>\n",
       "      <th></th>\n",
       "      <th></th>\n",
       "      <th></th>\n",
       "      <th></th>\n",
       "      <th></th>\n",
       "      <th></th>\n",
       "      <th></th>\n",
       "      <th></th>\n",
       "    </tr>\n",
       "  </thead>\n",
       "  <tbody>\n",
       "    <tr>\n",
       "      <th>Books</th>\n",
       "      <td>334012.05</td>\n",
       "      <td>12801.75</td>\n",
       "      <td>79461.75</td>\n",
       "      <td>84143.10</td>\n",
       "      <td>87203.40</td>\n",
       "      <td>74962.20</td>\n",
       "      <td>80476.80</td>\n",
       "      <td>54827.85</td>\n",
       "      <td>26664.00</td>\n",
       "    </tr>\n",
       "    <tr>\n",
       "      <th>Clothing</th>\n",
       "      <td>46003764.40</td>\n",
       "      <td>1927413.84</td>\n",
       "      <td>10250732.80</td>\n",
       "      <td>11354126.96</td>\n",
       "      <td>11215189.92</td>\n",
       "      <td>10321851.76</td>\n",
       "      <td>10660642.08</td>\n",
       "      <td>7769371.28</td>\n",
       "      <td>4493698.00</td>\n",
       "    </tr>\n",
       "    <tr>\n",
       "      <th>Cosmetics</th>\n",
       "      <td>2777362.62</td>\n",
       "      <td>109619.36</td>\n",
       "      <td>605915.32</td>\n",
       "      <td>723544.70</td>\n",
       "      <td>665034.96</td>\n",
       "      <td>587780.96</td>\n",
       "      <td>649990.76</td>\n",
       "      <td>419082.62</td>\n",
       "      <td>254531.60</td>\n",
       "    </tr>\n",
       "    <tr>\n",
       "      <th>Food &amp; Beverage</th>\n",
       "      <td>345875.59</td>\n",
       "      <td>13582.31</td>\n",
       "      <td>73491.96</td>\n",
       "      <td>87246.86</td>\n",
       "      <td>89553.29</td>\n",
       "      <td>72425.04</td>\n",
       "      <td>80976.09</td>\n",
       "      <td>55050.98</td>\n",
       "      <td>31332.93</td>\n",
       "    </tr>\n",
       "    <tr>\n",
       "      <th>Shoes</th>\n",
       "      <td>26468097.17</td>\n",
       "      <td>993281.35</td>\n",
       "      <td>5924878.24</td>\n",
       "      <td>7200839.66</td>\n",
       "      <td>7025590.02</td>\n",
       "      <td>5852857.84</td>\n",
       "      <td>5978893.54</td>\n",
       "      <td>4480269.05</td>\n",
       "      <td>2628744.60</td>\n",
       "    </tr>\n",
       "    <tr>\n",
       "      <th>Souvenir</th>\n",
       "      <td>265661.04</td>\n",
       "      <td>12375.15</td>\n",
       "      <td>54943.32</td>\n",
       "      <td>64092.72</td>\n",
       "      <td>66391.80</td>\n",
       "      <td>54943.32</td>\n",
       "      <td>55025.43</td>\n",
       "      <td>38673.81</td>\n",
       "      <td>23718.06</td>\n",
       "    </tr>\n",
       "    <tr>\n",
       "      <th>Technology</th>\n",
       "      <td>23865450.00</td>\n",
       "      <td>1129800.00</td>\n",
       "      <td>5261550.00</td>\n",
       "      <td>6159300.00</td>\n",
       "      <td>5954550.00</td>\n",
       "      <td>4435200.00</td>\n",
       "      <td>5471550.00</td>\n",
       "      <td>3638250.00</td>\n",
       "      <td>1946700.00</td>\n",
       "    </tr>\n",
       "    <tr>\n",
       "      <th>Toys</th>\n",
       "      <td>1587210.24</td>\n",
       "      <td>60426.24</td>\n",
       "      <td>385100.80</td>\n",
       "      <td>420582.40</td>\n",
       "      <td>390906.88</td>\n",
       "      <td>345067.52</td>\n",
       "      <td>363955.20</td>\n",
       "      <td>273244.16</td>\n",
       "      <td>153932.80</td>\n",
       "    </tr>\n",
       "  </tbody>\n",
       "</table>\n",
       "</div>"
      ],
      "text/plain": [
       "                 total_sales                                        \\\n",
       "decade                   0-9       10-19        20-29        30-39   \n",
       "category                                                             \n",
       "Books              334012.05    12801.75     79461.75     84143.10   \n",
       "Clothing         46003764.40  1927413.84  10250732.80  11354126.96   \n",
       "Cosmetics         2777362.62   109619.36    605915.32    723544.70   \n",
       "Food & Beverage    345875.59    13582.31     73491.96     87246.86   \n",
       "Shoes            26468097.17   993281.35   5924878.24   7200839.66   \n",
       "Souvenir           265661.04    12375.15     54943.32     64092.72   \n",
       "Technology       23865450.00  1129800.00   5261550.00   6159300.00   \n",
       "Toys              1587210.24    60426.24    385100.80    420582.40   \n",
       "\n",
       "                                                                                \n",
       "decade                 40-49        50-59        60-69       70-79       80-89  \n",
       "category                                                                        \n",
       "Books               87203.40     74962.20     80476.80    54827.85    26664.00  \n",
       "Clothing         11215189.92  10321851.76  10660642.08  7769371.28  4493698.00  \n",
       "Cosmetics          665034.96    587780.96    649990.76   419082.62   254531.60  \n",
       "Food & Beverage     89553.29     72425.04     80976.09    55050.98    31332.93  \n",
       "Shoes             7025590.02   5852857.84   5978893.54  4480269.05  2628744.60  \n",
       "Souvenir            66391.80     54943.32     55025.43    38673.81    23718.06  \n",
       "Technology        5954550.00   4435200.00   5471550.00  3638250.00  1946700.00  \n",
       "Toys               390906.88    345067.52    363955.20   273244.16   153932.80  "
      ]
     },
     "execution_count": 161,
     "metadata": {},
     "output_type": "execute_result"
    }
   ],
   "source": [
    "newdf.pivot_table(index=['category'],columns = ['decade'],values=[\"total_sales\"],aggfunc='sum')"
   ]
  },
  {
   "cell_type": "code",
   "execution_count": null,
   "id": "d10696f8-6f80-43f3-8596-cf856e4939d7",
   "metadata": {},
   "outputs": [],
   "source": []
  }
 ],
 "metadata": {
  "kernelspec": {
   "display_name": "Python 3 (ipykernel)",
   "language": "python",
   "name": "python3"
  },
  "language_info": {
   "codemirror_mode": {
    "name": "ipython",
    "version": 3
   },
   "file_extension": ".py",
   "mimetype": "text/x-python",
   "name": "python",
   "nbconvert_exporter": "python",
   "pygments_lexer": "ipython3",
   "version": "3.11.7"
  }
 },
 "nbformat": 4,
 "nbformat_minor": 5
}
