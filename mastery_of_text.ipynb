{
 "cells": [
  {
   "cell_type": "code",
   "execution_count": 1,
   "id": "97ba16b4-9d9c-4cfe-90be-d47391690f00",
   "metadata": {},
   "outputs": [],
   "source": [
    "import requests\n",
    "\n",
    "pg10 = requests.get('https://www.gutenberg.org/cache/epub/10/pg10.txt')"
   ]
  },
  {
   "cell_type": "code",
   "execution_count": 2,
   "id": "ef8ac376-ce45-4155-b396-6ec7d7ed6bb9",
   "metadata": {},
   "outputs": [],
   "source": [
    "#1 number of lines"
   ]
  },
  {
   "cell_type": "code",
   "execution_count": 3,
   "id": "3d5f9a49-713f-4ec9-8110-8a1aa4f1f758",
   "metadata": {},
   "outputs": [
    {
     "data": {
      "text/plain": [
       "99968"
      ]
     },
     "execution_count": 3,
     "metadata": {},
     "output_type": "execute_result"
    }
   ],
   "source": [
    "len(pg10.text.splitlines())"
   ]
  },
  {
   "cell_type": "code",
   "execution_count": 4,
   "id": "e5669a12-c510-465a-b00a-8514973baba6",
   "metadata": {},
   "outputs": [],
   "source": [
    "#2 number of words"
   ]
  },
  {
   "cell_type": "code",
   "execution_count": 6,
   "id": "2fc14b7e-8364-4b08-909a-6b56ed30b143",
   "metadata": {},
   "outputs": [
    {
     "data": {
      "text/plain": [
       "824538"
      ]
     },
     "execution_count": 6,
     "metadata": {},
     "output_type": "execute_result"
    }
   ],
   "source": [
    "len(pg10.text.split())"
   ]
  },
  {
   "cell_type": "code",
   "execution_count": null,
   "id": "2f0b6641-5468-4aa9-bf0c-ac4f6d1b3fa6",
   "metadata": {},
   "outputs": [],
   "source": [
    "#3 number of times \"apostle\" appears"
   ]
  },
  {
   "cell_type": "code",
   "execution_count": 9,
   "id": "76302da0-ad3a-48a6-8a8b-78fb582053a1",
   "metadata": {},
   "outputs": [
    {
     "data": {
      "text/plain": [
       "47"
      ]
     },
     "execution_count": 9,
     "metadata": {},
     "output_type": "execute_result"
    }
   ],
   "source": [
    "words = {}\n",
    "for word in pg10.text.split():\n",
    "    word = word.strip(\",.;?!\").lower()\n",
    "    if words.get(word):\n",
    "        words[word] += 1\n",
    "    else:\n",
    "        words[word] = 1\n",
    "\n",
    "words[\"apostle\"]"
   ]
  },
  {
   "cell_type": "code",
   "execution_count": null,
   "id": "f31f5f42-b43b-4227-8546-f265cfc0abb2",
   "metadata": {},
   "outputs": [],
   "source": [
    "#4 most common word"
   ]
  },
  {
   "cell_type": "code",
   "execution_count": 10,
   "id": "4120096e-2be5-4ca5-8325-aaf1684d44e0",
   "metadata": {},
   "outputs": [
    {
     "data": {
      "text/plain": [
       "'the'"
      ]
     },
     "execution_count": 10,
     "metadata": {},
     "output_type": "execute_result"
    }
   ],
   "source": [
    "max(words, key=words.get)"
   ]
  },
  {
   "cell_type": "code",
   "execution_count": null,
   "id": "84288a67-e77d-428f-85f1-68bd1431a27d",
   "metadata": {},
   "outputs": [],
   "source": []
  }
 ],
 "metadata": {
  "kernelspec": {
   "display_name": "Python 3 (ipykernel)",
   "language": "python",
   "name": "python3"
  },
  "language_info": {
   "codemirror_mode": {
    "name": "ipython",
    "version": 3
   },
   "file_extension": ".py",
   "mimetype": "text/x-python",
   "name": "python",
   "nbconvert_exporter": "python",
   "pygments_lexer": "ipython3",
   "version": "3.11.7"
  }
 },
 "nbformat": 4,
 "nbformat_minor": 5
}
