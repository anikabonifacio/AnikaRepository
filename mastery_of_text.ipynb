{
 "cells": [
  {
   "cell_type": "code",
   "execution_count": 6,
   "id": "3b7fcdce-4614-45ae-aa81-0d8097385157",
   "metadata": {},
   "outputs": [],
   "source": [
    "import requests\n",
    "\n",
    "bible = requests.get('https://www.gutenberg.org/cache/epub/10/pg10.txt')"
   ]
  },
  {
   "cell_type": "code",
   "execution_count": null,
   "id": "8b129008-b540-4772-96e8-4b4d42e62200",
   "metadata": {},
   "outputs": [],
   "source": [
    "#1"
   ]
  },
  {
   "cell_type": "code",
   "execution_count": 2,
   "id": "27665687-8d93-4260-9f59-93c7ae6408b4",
   "metadata": {},
   "outputs": [
    {
     "data": {
      "text/plain": [
       "824538"
      ]
     },
     "execution_count": 2,
     "metadata": {},
     "output_type": "execute_result"
    }
   ],
   "source": [
    "len(bible.text.split())"
   ]
  },
  {
   "cell_type": "code",
   "execution_count": null,
   "id": "04032243-8e6a-4ea2-b6be-621f6ee60d21",
   "metadata": {},
   "outputs": [],
   "source": [
    "#2"
   ]
  },
  {
   "cell_type": "code",
   "execution_count": 3,
   "id": "5ddb9d84-087b-4351-8e9d-c0e17a53d1cd",
   "metadata": {},
   "outputs": [
    {
     "data": {
      "text/plain": [
       "795227"
      ]
     },
     "execution_count": 3,
     "metadata": {},
     "output_type": "execute_result"
    }
   ],
   "source": [
    "import re\n",
    "bib = bible.text\n",
    "len(re.findall(r\"[a-zA-Z_]+\", bib))\n"
   ]
  },
  {
   "cell_type": "code",
   "execution_count": null,
   "id": "3f8d3142-ea84-467a-9d60-da9464ff5083",
   "metadata": {},
   "outputs": [],
   "source": [
    "#3"
   ]
  },
  {
   "cell_type": "code",
   "execution_count": 4,
   "id": "971fb9a5-94e6-412d-aab5-f5063850c168",
   "metadata": {},
   "outputs": [
    {
     "data": {
      "text/plain": [
       "82"
      ]
     },
     "execution_count": 4,
     "metadata": {},
     "output_type": "execute_result"
    }
   ],
   "source": [
    "bib.count(\"apostle\")"
   ]
  },
  {
   "cell_type": "code",
   "execution_count": null,
   "id": "6267142e-d340-4201-92ea-f231bf38fb89",
   "metadata": {},
   "outputs": [],
   "source": [
    "#4"
   ]
  },
  {
   "cell_type": "code",
   "execution_count": 5,
   "id": "6dd4aae0-6463-4060-9c53-c5987a36c846",
   "metadata": {},
   "outputs": [
    {
     "data": {
      "text/plain": [
       "[('the', 62313)]"
      ]
     },
     "execution_count": 5,
     "metadata": {},
     "output_type": "execute_result"
    }
   ],
   "source": [
    "from collections import Counter\n",
    "\n",
    "words = re.findall(r\"[a-zA-Z_]+\", bib)\n",
    "Counters_found = Counter(words)\n",
    "Counters_found.most_common(1)"
   ]
  },
  {
   "cell_type": "code",
   "execution_count": null,
   "id": "23ce8166-a9a8-4e16-b2ab-8fb1dff41b7e",
   "metadata": {},
   "outputs": [],
   "source": []
  }
 ],
 "metadata": {
  "kernelspec": {
   "display_name": "Python 3 (ipykernel)",
   "language": "python",
   "name": "python3"
  },
  "language_info": {
   "codemirror_mode": {
    "name": "ipython",
    "version": 3
   },
   "file_extension": ".py",
   "mimetype": "text/x-python",
   "name": "python",
   "nbconvert_exporter": "python",
   "pygments_lexer": "ipython3",
   "version": "3.11.7"
  }
 },
 "nbformat": 4,
 "nbformat_minor": 5
}
